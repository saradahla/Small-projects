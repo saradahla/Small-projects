{
 "cells": [
  {
   "cell_type": "code",
   "execution_count": 2,
   "metadata": {},
   "outputs": [],
   "source": [
    "import numpy as np\n",
    "import matplotlib.pyplot as plt"
   ]
  },
  {
   "cell_type": "markdown",
   "metadata": {},
   "source": [
    "The Fibonacci sequence is a recursive sequence. The pattern begins after the first two numbers, 0 and 1, where each number in the sequence is always the sum of the two numbers before it:\n",
    "\n",
    "$0, 1, 1, 2, 3, 5, 8, 13, 21, 34...$\n",
    "\n",
    "I will make a class to calculate the sequence"
   ]
  },
  {
   "cell_type": "code",
   "execution_count": 15,
   "metadata": {},
   "outputs": [],
   "source": [
    "class Fibo():\n",
    "    def __init__(self):\n",
    "        self.fibonacci_seq = []\n",
    "        self.fibonacci_seq.append(0)\n",
    "        self.fibonacci_seq.append(1) # we initialize with the numbers 0 and 1\n",
    "        \n",
    "    def __call__(self, i):\n",
    "        \n",
    "        # If you haven't already, calculate the current Fibonacci number\n",
    "        if i >= len(self.fibonacci_seq):\n",
    "            fib_no = self.__call__(i-2) + self.__call__(i-1)\n",
    "            self.fibonacci_seq.append(fib_no)\n",
    "        \n",
    "        # If the number you are looking for is already in the sequence, find it \n",
    "        if i < len(self.fibonacci_seq):\n",
    "            fib_no = sum(self.fibonacci_seq[-2:])\n",
    "            \n",
    "            print(i, self.fibonacci_seq) # print the sequence, just to see it\n",
    "            return self.fibonacci_seq[i]"
   ]
  },
  {
   "cell_type": "code",
   "execution_count": 16,
   "metadata": {},
   "outputs": [],
   "source": [
    "seq = Fibo()"
   ]
  },
  {
   "cell_type": "code",
   "execution_count": 17,
   "metadata": {},
   "outputs": [
    {
     "name": "stdout",
     "output_type": "stream",
     "text": [
      "0 [0, 1]\n",
      "1 [0, 1]\n",
      "2 [0, 1, 1]\n",
      "1 [0, 1, 1]\n",
      "2 [0, 1, 1]\n",
      "3 [0, 1, 1, 2]\n",
      "4 [0, 1, 1, 2, 3]\n",
      "3 [0, 1, 1, 2, 3]\n",
      "4 [0, 1, 1, 2, 3]\n",
      "5 [0, 1, 1, 2, 3, 5]\n",
      "6 [0, 1, 1, 2, 3, 5, 8]\n",
      "5 [0, 1, 1, 2, 3, 5, 8]\n",
      "6 [0, 1, 1, 2, 3, 5, 8]\n",
      "7 [0, 1, 1, 2, 3, 5, 8, 13]\n",
      "8 [0, 1, 1, 2, 3, 5, 8, 13, 21]\n",
      "7 [0, 1, 1, 2, 3, 5, 8, 13, 21]\n",
      "8 [0, 1, 1, 2, 3, 5, 8, 13, 21]\n",
      "9 [0, 1, 1, 2, 3, 5, 8, 13, 21, 34]\n",
      "10 [0, 1, 1, 2, 3, 5, 8, 13, 21, 34, 55]\n"
     ]
    },
    {
     "data": {
      "text/plain": [
       "55"
      ]
     },
     "execution_count": 17,
     "metadata": {},
     "output_type": "execute_result"
    }
   ],
   "source": [
    "seq(10)"
   ]
  },
  {
   "cell_type": "code",
   "execution_count": null,
   "metadata": {},
   "outputs": [],
   "source": []
  }
 ],
 "metadata": {
  "kernelspec": {
   "display_name": "Python 3",
   "language": "python",
   "name": "python3"
  },
  "language_info": {
   "codemirror_mode": {
    "name": "ipython",
    "version": 3
   },
   "file_extension": ".py",
   "mimetype": "text/x-python",
   "name": "python",
   "nbconvert_exporter": "python",
   "pygments_lexer": "ipython3",
   "version": "3.7.6"
  }
 },
 "nbformat": 4,
 "nbformat_minor": 2
}
