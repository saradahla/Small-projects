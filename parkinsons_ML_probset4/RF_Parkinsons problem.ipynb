{
 "cells": [
  {
   "cell_type": "markdown",
   "metadata": {},
   "source": [
    "# Application: Diagnosing Parkinson’s disease voice signals"
   ]
  },
  {
   "cell_type": "markdown",
   "metadata": {},
   "source": [
    "We are considering the same data as the SVM problem, but this time solving it using random forest.\n",
    "\n",
    "We will not be scaling the data, as it has no influence on the model. "
   ]
  },
  {
   "cell_type": "code",
   "execution_count": 1,
   "metadata": {},
   "outputs": [],
   "source": [
    "import numpy as np\n",
    "from sklearn.ensemble import RandomForestClassifier"
   ]
  },
  {
   "cell_type": "markdown",
   "metadata": {},
   "source": [
    "Load the training and test data:"
   ]
  },
  {
   "cell_type": "code",
   "execution_count": 2,
   "metadata": {},
   "outputs": [],
   "source": [
    "data_train = np.loadtxt(\"parkinsonsTrainStatML.dt\")\n",
    "data_test = np.loadtxt(\"parkinsonsTestStatML.dt\")\n",
    "\n",
    "train_label = data_train[:,-1]\n",
    "test_label = data_test[:,-1]"
   ]
  },
  {
   "cell_type": "markdown",
   "metadata": {},
   "source": [
    "Making the classifier with 50 trees. Fitting it to the train data and predicting on the test data:"
   ]
  },
  {
   "cell_type": "code",
   "execution_count": 3,
   "metadata": {},
   "outputs": [
    {
     "name": "stdout",
     "output_type": "stream",
     "text": [
      "The test score was 0.887.\n"
     ]
    }
   ],
   "source": [
    "clf = RandomForestClassifier(n_estimators=50, random_state=0)\n",
    "clf.fit(data_train[:,:-1], train_label)\n",
    "test_score = clf.score(data_test[:,:-1], test_label)\n",
    "\n",
    "print(f\"The test score was {test_score:3.3f}.\")"
   ]
  },
  {
   "cell_type": "code",
   "execution_count": null,
   "metadata": {},
   "outputs": [],
   "source": []
  }
 ],
 "metadata": {
  "kernelspec": {
   "display_name": "Python 3",
   "language": "python",
   "name": "python3"
  },
  "language_info": {
   "codemirror_mode": {
    "name": "ipython",
    "version": 3
   },
   "file_extension": ".py",
   "mimetype": "text/x-python",
   "name": "python",
   "nbconvert_exporter": "python",
   "pygments_lexer": "ipython3",
   "version": "3.7.6"
  }
 },
 "nbformat": 4,
 "nbformat_minor": 2
}
